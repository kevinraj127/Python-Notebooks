{
 "cells": [
  {
   "cell_type": "markdown",
   "metadata": {},
   "source": [
    "# Prerequisite verification notebook\n",
    "\n",
    "This notebook will make sure that you have all the required software installed, and that you have enough knowledge to proceed with the workshop. Note that we will not provide support for missing libraries or non-working code. It is up to you to make sure that everything works.\n",
    "\n",
    "This notebook contains two parts. The first part \"Software\" will make sure that you have all the software installed and working. See the [README.md](README.md) file for more information about the setup.\n",
    "\n",
    "The second part of this notebook is called \"Knowledge.\" It checks whether you know what you are doing. Go through the examples, and make sure you understand what's going one. I will not be able to explain matplotlib internals during this workshop. You'll find useful links at the beginning of the second part.\n",
    "\n",
    "Don't forget to answer the pre-workshop survey! Help me help you http://bit.ly/ds2018dataviz :-)\n",
    "\n"
   ]
  },
  {
   "cell_type": "markdown",
   "metadata": {},
   "source": [
    "## 1. Software\n",
    "\n",
    "Making sure you have the right setup"
   ]
  },
  {
   "cell_type": "code",
   "execution_count": 1,
   "metadata": {
    "ExecuteTime": {
     "end_time": "2018-05-15T09:29:29.563038Z",
     "start_time": "2018-05-15T09:29:28.403902Z"
    }
   },
   "outputs": [],
   "source": [
    "import sys\n",
    "from matplotlib import pylab as plt\n",
    "import pandas as pd\n",
    "import numpy as np\n",
    "import seaborn as sns\n",
    "from IPython.display import Image\n",
    "import urllib\n",
    "from bidi import algorithm as bidialg # Needed to handle Hebrew in plots. Install using `pip install python-bidi`\n",
    "from scipy.stats import gaussian_kde\n",
    "%matplotlib inline"
   ]
  },
  {
   "cell_type": "markdown",
   "metadata": {},
   "source": [
    "Let's make sure you have the right versions"
   ]
  },
  {
   "cell_type": "code",
   "execution_count": 2,
   "metadata": {
    "ExecuteTime": {
     "end_time": "2018-05-15T09:16:24.096507Z",
     "start_time": "2018-05-15T09:16:24.092717Z"
    }
   },
   "outputs": [],
   "source": [
    "assert sys.version_info.major > 2, \"You can't be serious! It's 2018\""
   ]
  },
  {
   "cell_type": "code",
   "execution_count": 3,
   "metadata": {
    "ExecuteTime": {
     "end_time": "2018-05-15T09:16:24.490455Z",
     "start_time": "2018-05-15T09:16:24.486797Z"
    }
   },
   "outputs": [],
   "source": [
    "assert sys.version_info.minor >= 6, \"I like f-strings and use them a lot\""
   ]
  },
  {
   "cell_type": "code",
   "execution_count": 4,
   "metadata": {
    "ExecuteTime": {
     "end_time": "2018-05-15T09:16:25.481131Z",
     "start_time": "2018-05-15T09:16:25.477223Z"
    }
   },
   "outputs": [],
   "source": [
    "import matplotlib\n",
    "assert matplotlib.__version__ >= '2.1', f\"See this page to learn why you should update your matplotlib https://matplotlib.org/users/dflt_style_changes.html\""
   ]
  },
  {
   "cell_type": "code",
   "execution_count": 5,
   "metadata": {
    "ExecuteTime": {
     "end_time": "2018-05-15T09:16:26.233122Z",
     "start_time": "2018-05-15T09:16:26.061517Z"
    }
   },
   "outputs": [
    {
     "data": {
      "text/plain": [
       "<matplotlib.image.AxesImage at 0x1199d06a0>"
      ]
     },
     "execution_count": 5,
     "metadata": {},
     "output_type": "execute_result"
    },
    {
     "data": {
      "image/png": "[encoded data removed]",
      "text/plain": [
       "<Figure size 432x288 with 1 Axes>"
      ]
     },
     "metadata": {},
     "output_type": "display_data"
    }
   ],
   "source": [
    "m = np.linspace(0, 100, 100*100).reshape(100, 100)\n",
    "plt.imshow(m)"
   ]
  },
  {
   "cell_type": "markdown",
   "metadata": {
    "ExecuteTime": {
     "end_time": "2018-05-15T09:00:21.062568Z",
     "start_time": "2018-05-15T09:00:20.924476Z"
    }
   },
   "source": [
    "The above cell should have created a nice \"heatmap\" with yellow-green-blue gradient. If you can't see a graph that looks like the one below, something is wrong with your installation.\n",
    "\n",
    "<img src=\"figures/heatmap.png\" alt=\"Heatmap\" style=\"width: 320px;\"/>"
   ]
  },
  {
   "cell_type": "code",
   "execution_count": 6,
   "metadata": {
    "ExecuteTime": {
     "end_time": "2018-05-15T09:18:54.491679Z",
     "start_time": "2018-05-15T09:18:53.282201Z"
    }
   },
   "outputs": [
    {
     "data": {
      "text/html": [
       "<div>\n",
       "<style scoped>\n",
       "    .dataframe tbody tr th:only-of-type {\n",
       "        vertical-align: middle;\n",
       "    }\n",
       "\n",
       "    .dataframe tbody tr th {\n",
       "        vertical-align: top;\n",
       "    }\n",
       "\n",
       "    .dataframe thead th {\n",
       "        text-align: right;\n",
       "    }\n",
       "</style>\n",
       "<table border=\"1\" class=\"dataframe\">\n",
       "  <thead>\n",
       "    <tr style=\"text-align: right;\">\n",
       "      <th></th>\n",
       "      <th>מפלגה</th>\n",
       "      <th>מנהיג/ה</th>\n",
       "      <th>סימן</th>\n",
       "      <th>מושבים</th>\n",
       "      <th>אחוז המושבים</th>\n",
       "      <th>קולות</th>\n",
       "      <th>אחוז הקולות</th>\n",
       "    </tr>\n",
       "  </thead>\n",
       "  <tbody>\n",
       "    <tr>\n",
       "      <th>1</th>\n",
       "      <td>הליכוד</td>\n",
       "      <td>בנימין נתניהו</td>\n",
       "      <td>מחל</td>\n",
       "      <td>30.0</td>\n",
       "      <td>25.0%</td>\n",
       "      <td>985408.0</td>\n",
       "      <td>23.4%</td>\n",
       "    </tr>\n",
       "    <tr>\n",
       "      <th>2</th>\n",
       "      <td>המחנה הציוני</td>\n",
       "      <td>יצחק הרצוג</td>\n",
       "      <td>אמת</td>\n",
       "      <td>24.0</td>\n",
       "      <td>20.0%</td>\n",
       "      <td>786313.0</td>\n",
       "      <td>18.67%</td>\n",
       "    </tr>\n",
       "    <tr>\n",
       "      <th>3</th>\n",
       "      <td>הרשימה המשותפת</td>\n",
       "      <td>איימן עודה</td>\n",
       "      <td>ודעם</td>\n",
       "      <td>13.0</td>\n",
       "      <td>10.83%</td>\n",
       "      <td>446583.0</td>\n",
       "      <td>10.61%</td>\n",
       "    </tr>\n",
       "    <tr>\n",
       "      <th>4</th>\n",
       "      <td>יש עתיד</td>\n",
       "      <td>יאיר לפיד</td>\n",
       "      <td>פה</td>\n",
       "      <td>11.0</td>\n",
       "      <td>9.17%</td>\n",
       "      <td>371602.0</td>\n",
       "      <td>8.82%</td>\n",
       "    </tr>\n",
       "    <tr>\n",
       "      <th>5</th>\n",
       "      <td>כולנו</td>\n",
       "      <td>משה כחלון</td>\n",
       "      <td>כ</td>\n",
       "      <td>10.0</td>\n",
       "      <td>8.33%</td>\n",
       "      <td>315360.0</td>\n",
       "      <td>7.49%</td>\n",
       "    </tr>\n",
       "  </tbody>\n",
       "</table>\n",
       "</div>"
      ],
      "text/plain": [
       "            מפלגה        מנהיג/ה  סימן  מושבים אחוז המושבים     קולות  \\\n",
       "1          הליכוד  בנימין נתניהו   מחל    30.0        25.0%  985408.0   \n",
       "2    המחנה הציוני     יצחק הרצוג   אמת    24.0        20.0%  786313.0   \n",
       "3  הרשימה המשותפת     איימן עודה  ודעם    13.0       10.83%  446583.0   \n",
       "4         יש עתיד      יאיר לפיד    פה    11.0        9.17%  371602.0   \n",
       "5           כולנו      משה כחלון     כ    10.0        8.33%  315360.0   \n",
       "\n",
       "  אחוז הקולות  \n",
       "1       23.4%  \n",
       "2      18.67%  \n",
       "3      10.61%  \n",
       "4       8.82%  \n",
       "5       7.49%  "
      ]
     },
     "execution_count": 6,
     "metadata": {},
     "output_type": "execute_result"
    }
   ],
   "source": [
    "url = 'he.wikipedia.org/wiki/הכנסת_העשרים'\n",
    "tables = pd.read_html(\"https://\" + urllib.parse.quote(url),header=0)\n",
    "tbl_knesset = tables[1]\n",
    "column_names = [\n",
    "    'מפלגה',\n",
    "    'Unused',\n",
    "    'מנהיג/ה',\n",
    "    'סימן',\n",
    "    'מושבים',\n",
    "    'אחוז המושבים',\n",
    "    'Unused',\n",
    "    'Unused',\n",
    "    'קולות',\n",
    "    'אחוז הקולות'\n",
    "]\n",
    "tbl_knesset = tbl_knesset.iloc[:, range(len(column_names))]\n",
    "tbl_knesset.columns = column_names\n",
    "tbl_knesset = tbl_knesset.drop([c for c in tbl_knesset.columns if 'Unused' in c], axis=1)\n",
    "tbl_knesset = tbl_knesset.dropna(subset=['מפלגה', 'מושבים'])\n",
    "tbl_knesset.head()"
   ]
  },
  {
   "cell_type": "code",
   "execution_count": 7,
   "metadata": {
    "ExecuteTime": {
     "end_time": "2018-05-15T09:18:54.642545Z",
     "start_time": "2018-05-15T09:18:54.493867Z"
    }
   },
   "outputs": [
    {
     "data": {
      "image/png": "[encoded data removed]",
      "text/plain": [
       "<Figure size 432x288 with 1 Axes>"
      ]
     },
     "metadata": {},
     "output_type": "display_data"
    }
   ],
   "source": [
    "labels = [bidialg.get_display(l) for l in tbl_knesset['מפלגה']]\n",
    "tbl_knesset['label'] = labels\n",
    "fig, ax = plt.subplots()\n",
    "ax.pie(\n",
    "    x=tbl_knesset['מושבים'],\n",
    "    labels=tbl_knesset['label']\n",
    ")\n",
    "ax.set_aspect(1.0)"
   ]
  },
  {
   "cell_type": "markdown",
   "metadata": {},
   "source": [
    "The above cell should have created a pie chart with some Hebrew words in it, it should look like the chart below. Notice the correct text direction. You'll need [python-bidi](https://pypi.org/project/python-bidi/) for this code to work\n",
    "\n",
    "\n",
    "<img src=\"figures/hebrew_in_a_plot.png\" alt=\"Hebrew in a plot\" style=\"width: 320px;\"/>"
   ]
  },
  {
   "cell_type": "code",
   "execution_count": 8,
   "metadata": {
    "ExecuteTime": {
     "end_time": "2018-05-15T09:23:47.734930Z",
     "start_time": "2018-05-15T09:23:47.619821Z"
    }
   },
   "outputs": [
    {
     "data": {
      "text/plain": [
       "<matplotlib.axes._subplots.AxesSubplot at 0x1a1ff9fc18>"
      ]
     },
     "execution_count": 8,
     "metadata": {},
     "output_type": "execute_result"
    },
    {
     "data": {
      "image/png": "[encoded data removed]",
      "text/plain": [
       "<Figure size 432x288 with 1 Axes>"
      ]
     },
     "metadata": {},
     "output_type": "display_data"
    }
   ],
   "source": [
    "def kdeplot(data, ax=None, **kwargs):\n",
    "    density = gaussian_kde(data)\n",
    "    xs = np.linspace(np.min(data), \n",
    "                     np.max(data), \n",
    "                     kwargs.pop('numpoints', 200)\n",
    "                    )\n",
    "    covariance_factor = kwargs.pop(\n",
    "        'covariance_factor', 0.08\n",
    "    )\n",
    "    density.covariance_factor = lambda : covariance_factor\n",
    "    density._compute_covariance()\n",
    "    if ax is None:\n",
    "        fig, ax = plt.subplots()\n",
    "    title = kwargs.pop('title', None)\n",
    "\n",
    "    ax.plot(xs,density(xs), **kwargs)\n",
    "    if title is not None:\n",
    "        ax.set_ylabel(title, \n",
    "                      rotation=0, \n",
    "                      y=0.75, \n",
    "                      ha='right', \n",
    "                      fontsize='x-large')\n",
    "    sns.despine(ax=ax)\n",
    "    return ax\n",
    "kdeplot(np.random.randn(100))"
   ]
  },
  {
   "cell_type": "markdown",
   "metadata": {},
   "source": [
    "## 2. Knowledge\n",
    "Go through the examples below. Do you understand what they do? Can you modify these examples to fit your needs? If you can't, you should do some homework **before** the workshop, or cancel your registration. Unfortunately, I won't be able to teach how to use the libraries. \n",
    "\n",
    "Following are useful tutorials that will give you enough background\n",
    "\n",
    "* [10 minutes to Pandas](https://pandas.pydata.org/pandas-docs/stable/10min.html)\n",
    "* [Intro to Pandas: -1 : An absolute beginners guide to Machine Learning and Data science](https://pandas.pydata.org/pandas-docs/stable/10min.html)\n",
    "* [Introduction to Object-oriented matplolib intefrace](http://jakevdp.github.io/mpl_tutorial/tutorial_pages/tut2.html). There are two ways to interact with matplotlib. The first one (\"Matlab-style\") uses a set of high-level functions. The second one is more \"Pythonic\" and more powerful. I will mostly use the latter."
   ]
  },
  {
   "cell_type": "markdown",
   "metadata": {},
   "source": [
    "### 2.1 Pandas"
   ]
  },
  {
   "cell_type": "code",
   "execution_count": 9,
   "metadata": {},
   "outputs": [
    {
     "data": {
      "text/html": [
       "<div>\n",
       "<style scoped>\n",
       "    .dataframe tbody tr th:only-of-type {\n",
       "        vertical-align: middle;\n",
       "    }\n",
       "\n",
       "    .dataframe tbody tr th {\n",
       "        vertical-align: top;\n",
       "    }\n",
       "\n",
       "    .dataframe thead th {\n",
       "        text-align: right;\n",
       "    }\n",
       "</style>\n",
       "<table border=\"1\" class=\"dataframe\">\n",
       "  <thead>\n",
       "    <tr style=\"text-align: right;\">\n",
       "      <th></th>\n",
       "      <th>מפלגה</th>\n",
       "      <th>מנהיג/ה</th>\n",
       "      <th>סימן</th>\n",
       "      <th>מושבים</th>\n",
       "      <th>אחוז המושבים</th>\n",
       "      <th>קולות</th>\n",
       "      <th>אחוז הקולות</th>\n",
       "    </tr>\n",
       "  </thead>\n",
       "  <tbody>\n",
       "    <tr>\n",
       "      <th>1</th>\n",
       "      <td>הליכוד</td>\n",
       "      <td>בנימין נתניהו</td>\n",
       "      <td>מחל</td>\n",
       "      <td>30.0</td>\n",
       "      <td>25.0%</td>\n",
       "      <td>985408.0</td>\n",
       "      <td>23.4%</td>\n",
       "    </tr>\n",
       "    <tr>\n",
       "      <th>2</th>\n",
       "      <td>המחנה הציוני</td>\n",
       "      <td>יצחק הרצוג</td>\n",
       "      <td>אמת</td>\n",
       "      <td>24.0</td>\n",
       "      <td>20.0%</td>\n",
       "      <td>786313.0</td>\n",
       "      <td>18.67%</td>\n",
       "    </tr>\n",
       "    <tr>\n",
       "      <th>3</th>\n",
       "      <td>הרשימה המשותפת</td>\n",
       "      <td>איימן עודה</td>\n",
       "      <td>ודעם</td>\n",
       "      <td>13.0</td>\n",
       "      <td>10.83%</td>\n",
       "      <td>446583.0</td>\n",
       "      <td>10.61%</td>\n",
       "    </tr>\n",
       "    <tr>\n",
       "      <th>4</th>\n",
       "      <td>יש עתיד</td>\n",
       "      <td>יאיר לפיד</td>\n",
       "      <td>פה</td>\n",
       "      <td>11.0</td>\n",
       "      <td>9.17%</td>\n",
       "      <td>371602.0</td>\n",
       "      <td>8.82%</td>\n",
       "    </tr>\n",
       "    <tr>\n",
       "      <th>5</th>\n",
       "      <td>כולנו</td>\n",
       "      <td>משה כחלון</td>\n",
       "      <td>כ</td>\n",
       "      <td>10.0</td>\n",
       "      <td>8.33%</td>\n",
       "      <td>315360.0</td>\n",
       "      <td>7.49%</td>\n",
       "    </tr>\n",
       "  </tbody>\n",
       "</table>\n",
       "</div>"
      ],
      "text/plain": [
       "            מפלגה        מנהיג/ה  סימן  מושבים אחוז המושבים     קולות  \\\n",
       "1          הליכוד  בנימין נתניהו   מחל    30.0        25.0%  985408.0   \n",
       "2    המחנה הציוני     יצחק הרצוג   אמת    24.0        20.0%  786313.0   \n",
       "3  הרשימה המשותפת     איימן עודה  ודעם    13.0       10.83%  446583.0   \n",
       "4         יש עתיד      יאיר לפיד    פה    11.0        9.17%  371602.0   \n",
       "5           כולנו      משה כחלון     כ    10.0        8.33%  315360.0   \n",
       "\n",
       "  אחוז הקולות  \n",
       "1       23.4%  \n",
       "2      18.67%  \n",
       "3      10.61%  \n",
       "4       8.82%  \n",
       "5       7.49%  "
      ]
     },
     "execution_count": 9,
     "metadata": {},
     "output_type": "execute_result"
    }
   ],
   "source": [
    "url = 'he.wikipedia.org/wiki/הכנסת_העשרים'\n",
    "tables = pd.read_html(\"https://\" + urllib.parse.quote(url),header=0)\n",
    "tbl_knesset = tables[1]\n",
    "column_names = [\n",
    "    'מפלגה',\n",
    "    'Unused',\n",
    "    'מנהיג/ה',\n",
    "    'סימן',\n",
    "    'מושבים',\n",
    "    'אחוז המושבים',\n",
    "    'Unused',\n",
    "    'Unused',\n",
    "    'קולות',\n",
    "    'אחוז הקולות'\n",
    "]\n",
    "tbl_knesset = tbl_knesset.iloc[:, range(len(column_names))]\n",
    "tbl_knesset.columns = column_names\n",
    "tbl_knesset = tbl_knesset.drop([c for c in tbl_knesset.columns if 'Unused' in c], axis=1)\n",
    "tbl_knesset = tbl_knesset.dropna(subset=['מפלגה', 'מושבים'])\n",
    "tbl_knesset.head()"
   ]
  },
  {
   "cell_type": "markdown",
   "metadata": {},
   "source": [
    "### 2.2 matplotlib"
   ]
  },
  {
   "cell_type": "code",
   "execution_count": 10,
   "metadata": {},
   "outputs": [
    {
     "data": {
      "image/png": "[encoded data removed]",
      "text/plain": [
       "<Figure size 432x288 with 1 Axes>"
      ]
     },
     "metadata": {},
     "output_type": "display_data"
    }
   ],
   "source": [
    "plt.plot([1,2,3], [3,2,1], '--*k')\n",
    "sns.despine(ax=plt.gca())"
   ]
  },
  {
   "cell_type": "code",
   "execution_count": 11,
   "metadata": {},
   "outputs": [
    {
     "data": {
      "text/plain": [
       "Text(0.5,0.98,'Lorem ipsum')"
      ]
     },
     "execution_count": 11,
     "metadata": {},
     "output_type": "execute_result"
    },
    {
     "data": {
      "image/png": "[encoded data removed]",
      "text/plain": [
       "<Figure size 576x288 with 3 Axes>"
      ]
     },
     "metadata": {},
     "output_type": "display_data"
    }
   ],
   "source": [
    "fig, axes = plt.subplots(1, 2, figsize=(8,4))\n",
    "ax = axes[0]\n",
    "ax.hist(tbl_knesset['מושבים'], bins=3)\n",
    "ax.set_xlabel('Seats in the Knesset')\n",
    "ax.set_ylabel('Knesset\\nparties', rotation='horizontal', ha='right', ma='left')\n",
    "ax.set_ylim(0, 11)\n",
    "ax.set_yticks([0, 5, 10])\n",
    "\n",
    "\n",
    "ax = axes[1]\n",
    "heatmap = ax.imshow(m)\n",
    "fig.colorbar(heatmap)\n",
    "ax.set_title('Nice colors')\n",
    "\n",
    "fig.suptitle('Lorem ipsum')"
   ]
  },
  {
   "cell_type": "code",
   "execution_count": null,
   "metadata": {},
   "outputs": [],
   "source": []
  }
 ],
 "metadata": {
  "kernelspec": {
   "display_name": "Python 3",
   "language": "python",
   "name": "python3"
  },
  "language_info": {
   "codemirror_mode": {
    "name": "ipython",
    "version": 3
   },
   "file_extension": ".py",
   "mimetype": "text/x-python",
   "name": "python",
   "nbconvert_exporter": "python",
   "pygments_lexer": "ipython3",
   "version": "3.6.3"
  }
 },
 "nbformat": 4,
 "nbformat_minor": 2
}
