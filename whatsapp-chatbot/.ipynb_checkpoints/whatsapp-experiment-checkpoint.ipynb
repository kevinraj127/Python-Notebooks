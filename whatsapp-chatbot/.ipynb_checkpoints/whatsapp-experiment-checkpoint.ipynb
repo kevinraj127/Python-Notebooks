{
 "cells": [
  {
   "cell_type": "markdown",
   "metadata": {},
   "source": [
    "# Preperaing the Data"
   ]
  },
  {
   "cell_type": "code",
   "execution_count": 4,
   "metadata": {
    "ExecuteTime": {
     "end_time": "2018-09-25T08:45:31.694278Z",
     "start_time": "2018-09-25T08:45:30.434931Z"
    },
    "hidden": true
   },
   "outputs": [],
   "source": [
    "import warnings\n",
    "warnings.filterwarnings(\"ignore\", message=\"numpy.dtype size changed\")\n",
    "warnings.filterwarnings(\"ignore\", message=\"numpy.ufunc size changed\")\n",
    "import re\n",
    "import time\n",
    "import pandas as pd\n",
    "import dateutil\n",
    "import matplotlib.pyplot as plt\n",
    "import math\n",
    "import string\n",
    "import numpy as np\n",
    "\n",
    "class WhatsAppChat:\n",
    "    def __init__(self, filenames):\n",
    "        self.filenames = filenames\n",
    "        \n",
    "    def open_file(self, f):\n",
    "        x = open(f, 'r', encoding=\"utf-8\")\n",
    "        y = x.read()\n",
    "        content = y.splitlines()\n",
    "        return content\n",
    "    \n",
    "    def init(self):\n",
    "        df = pd.DataFrame(columns=['id', 'name', 'message', 'date', 'time'])\n",
    "        for f in self.filenames:\n",
    "            lines = self.open_file(f)\n",
    "            df2 = self.process(lines)\n",
    "            df = df.append(df2, ignore_index=True)\n",
    "        return df\n",
    "    \n",
    "    def remove_stopwords(self, txt):\n",
    "        stopwords = [\"לא\",\"כן\",\"את\",\"לא\",\"של\",\"אני\",\"על\",\"זה\",\"עם\",\"כל\",\"הוא\",\"אם\",\"או\",\"גם\",\"יותר\",\"יש\",\"לי\",\"מה\",\"אבל\",\"פורום\",\"אז\",\"טוב\",\"רק\",\"כי\",\"שלי\",\"היה\",\"בפורום\",\"אין\",\"עוד\",\"היא\",\"אחד\",\"ב\",\"ל\",\"עד\",\"לך\",\"כמו\",\"להיות\",\"אתה\",\"כמה\",\"אנחנו\",\"הם\",\"כבר\",\"אנשים\",\"אפשר\",\"תודה\",\"שלא\",\"אותו\",\"ה\",\"מאוד\",\"הרבה\",\"ולא\",\"ממש\",\"לו\",\"א\",\"מי\",\"חיים\",\"בית\",\"שאני\",\"יכול\",\"שהוא\",\"כך\",\"הזה\",\"איך\",\"היום\",\"קצת\",\"עכשיו\",\"שם\",\"בכל\",\"יהיה\",\"תמיד\",\"י\",\"שלך\",\"הכי\",\"ש\",\"בו\",\"לעשות\",\"צריך\",\"כן\",\"פעם\",\"לכם\",\"ואני\",\"משהו\",\"אל\",\"שלו\",\"שיש\",\"ו\",\"וגם\",\"אתכם\",\"אחרי\",\"בנושא\",\"כדי\",\"פשוט\",\"לפני\",\"שזה\",\"אותי\",\"אנו\",\"למה\",\"דבר\",\"כ\",\"כאן\",\"אולי\",\"טובים\",\"רוצה\",\"שנה\",\"בעלי\",\"החיים\",\"למען\",\"אתם\",\"מ\",\"בין\",\"יום\",\"זאת\",\"איזה\",\"ביותר\",\"לה\",\"אחת\",\"הכל\",\"הפורומים\",\"לכל\",\"אלא\",\"פה\",\"יודע\",\"שלום\",\"דקות\",\"לנו\",\"השנה\",\"דרך\",\"אדם\",\"נראה\",\"זו\",\"היחידה\",\"רוצים\",\"בכלל\",\"טובה\",\"שלנו\",\"האם\",\"הייתי\",\"הלב\",\"היו\",\"ח\",\"שדרות\",\"בלי\",\"להם\",\"שאתה\",\"אותה\",\"מקום\",\"ואתם\",\"חלק\",\"בן\",\"בואו\",\"אחר\",\"האחת\",\"אותך\",\"כמובן\",\"בגלל\",\"באמת\",\"מישהו\",\"ילדים\",\"אותם\",\"הפורום\",\"טיפוח\",\"וזה\",\"ר\",\"שהם\",\"אך\",\"מזמין\",\"ישראל\",\"כוס\",\"זמן\",\"ועוד\",\"הילדים\",\"עדיין\",\"כזה\",\"עושה\",\"שום\",\"לקחת\",\"העולם\",\"תפוז\",\"לראות\",\"לפורום\",\"וכל\",\"לקבל\",\"נכון\",\"יוצא\",\"לעולם\",\"גדול\",\"אפילו\",\"ניתן\",\"שני\",\"אוכל\",\"קשה\",\"משחק\",\"ביום\",\"ככה\",\"אמא\",\"בת\",\"השבוע\",\"נוספים\",\"לגבי\",\"בבית\",\"אחרת\",\"לפי\",\"ללא\",\"שנים\",\"הזמן\",\"שמן\",\"מעט\",\"לפחות\",\"אף\",\"שוב\",\"שלהם\",\"במקום\",\"כולם\",\"נועית\",\"הבא\",\"מעל\",\"לב\",\"המון\",\"לדבר\",\"ע\",\"אוהב\",\"מוסיפים\",\"חצי\",\"בעיקר\",\"כפות\",\"לפעמים\",\"שהיא\",\"הנהלת\",\"ועל\",\"ק\",\"אוהבים\",\"ת\",\"יודעת\",\"ד\",\"גרוע\",\"שאנחנו\",\"מים\",\"לילדים\",\"בארץ\",\"מודיע\",\"אשמח\",\"שלכם\",\"פחות\",\"לכולם\",\"די\",\"אהבה\",\"יכולה\",\"דברים\",\"הקהילה\",\"לעזור\",\"פרטים\",\"בדיוק\",\"מלח\",\"קל\",\"הראשי\",\"שלה\",\"להוסיף\",\"השני\",\"לדעתי\",\"בר\",\"למרות\",\"שגם\",\"מוזמנים\",\"לאחר\",\"במה\",\"חושב\",\"מאד\",\"יפה\",\"להגשים\",\"חדש\",\"קטן\",\"מחפשים\",\"שמח\",\"מדברים\",\"ואם\",\"במיוחד\",\"עבודה\",\"מדי\",\"ואז\",\"חשוב\",\"שאם\",\"אוהבת\",\"פעמים\",\"מנהלת\",\"אומר\",\"מול\",\"קשר\",\"מנהל\",\"שיהיה\",\"שאין\",\"שאנו\",\"האהבה\",\"ס\",\"הצטרפו\",\"כפית\",\"בשביל\",\"החגים\",\"אופן\",\"לתת\",\"כף\",\"בתוך\",\"סוכר\",\"גיל\",\"בהצלחה\",\"והוא\",\"מקווה\",\"סתם\",\"ויש\",\"נגד\",\"כמעט\",\"שאת\",\"עולה\",\"אי\",\"מספר\",\"ראשון\",\"לדרך\",\"נהיה\",\"לעצב\",\"עושים\",\"ולנהל\",\"היתה\",\"עליו\",\"מזה\",\"הייתה\",\"בא\",\"בפרס\",\"חלות\",\"ראש\",\"מזמינים\",\"טיפים\",\"מכבי\",\"רבה\",\"הורים\",\"‡\",\"מקרה\",\"קרן\",\"המוצלח\",\"להגיע\",\"גדולה\",\"כנראה\",\"החמשיר\",\"הראשון\",\"פלפל\",\"המשחק\",\"וכאן\",\"לדעת\",\"ואת\",\"גרועים\",\"ספר\",\"אגב\",\"אחרים\",\"להגיד\",\"בתפוז\",\"והעולם\",\"אופנה\",\"דווקא\",\"מספיק\",\"שעות\",\"תמונות\",\"כשאנחנו\",\"שוקולד\",\"ולכן\",\"ג\",\"לקרוא\",\"לניהול\",\"שבוע\",\"ויופי\",\"חלום\",\"בה\",\"שהיה\",\"שאלה\",\"מקומה\",\"הזו\",\"בפורומים\",\"החדש\",\"מתאמצים\",\"שחקן\",\"שמזינים\",\"נשמת\",\"בערך\",\"מכל\",\"ומה\",\"רגל\",\"כסף\",\"רואה\",\"קטנה\",\"בצל\",\"בעולם\",\"אינטרנט\",\"חוץ\",\"ברור\",\"הולך\",\"חושבת\",\"לזה\",\"כלום\",\"הן\",\"כאלה\",\"בטוח\",\"הדבר\",\"תהיה\",\"מגיע\",\"סוף\",\"האמת\",\"ממנו\",\"מיכל\",\"החדשה\",\"לתרום\",\"האנשים\",\"ועד\",\"בדרך\",\"אצלי\",\"ההורים\",\"בני\",\"מתוך\",\"כאשר\",\"לבד\",\"ראיתי\",\"מצב\",\"מלא\",\"לבחור\",\"נשמח\",\"החג\",\"רע\",\"עוף\",\"מן\",\"להביא\",\"מצאתי\",\"כתובות\",\"מעניין\",\"צריכה\",\"להכנס\",\"לחלוטין\",\"שעה\",\"מתכון\",\"קודם\",\"תשובות\",\"מדובר\",\"ניהול\",\"מזל\",\"כדאי\",\"יהיו\",\"ההודעות\",\"בוקר\",\"נילוות\",\"איפה\",\"בעיה\",\"קמח\",\"ללכת\",\"פורומים\",\"אמר\",\"נושא\",\"ההכנה\",\"בבקשה\",\"שכל\",\"הזאת\",\"למשחק\",\"פנינה\",\"תחרות\",\"חבר\",\"לקנות\",\"מהם\",\"רגע\",\"גרם\",\"אלו\",\"עצמו\",\"מראש\",\"הכלב\",\"כולנו\",\"עדיף\",\"איתו\",\"למשל\",\"לבשל\",\"למי\",\"רעיונות\",\"הבלוג\",\"רוב\",\"אביב\",\"כרגע\",\"בסוף\",\"אלה\",\"לחג\",\"ערוץ\",\"שווה\",\"באופן\",\"מאמין\",\"לבן\",\"בזה\",\"הכבוד\",\"לראש\",\"ם\",\"ימי\",\"שחור\",\"בצורה\",\"בעמוד\",\"ועם\",\"וחצי\",\"האלה\",\"תמונה\",\"בשלב\",\"משחקים\",\"נו\"]\n",
    "        word_list = txt.split(\" \")\n",
    "        filtered = [word for word in word_list if word not in stopwords]\n",
    "        return \" \".join(filtered)\n",
    "        \n",
    "    def ismessage(self, str):\n",
    "        patterns = {\n",
    "          \"pattern1\":r'(\\d{1,2}/\\d{1,2}/\\d{2,4}),\\s+(\\d{2}:\\d{2})\\s*-\\s*(\\w*\\s*\\w*)\\s*:\\s*(.*)'\n",
    "        }\n",
    "        for key in patterns:\n",
    "            r = re.search(patterns[key], str)\n",
    "            \n",
    "            if r != None:\n",
    "                date = r.group(1)\n",
    "                time = r.group(2)\n",
    "                name = r.group(3).lower()\n",
    "                message = r.group(4).strip()#.translate(str.maketrans('','',string.punctuation))\n",
    "#                 message = self.remove_stopwords(message)\n",
    "                return [date, time, name, message]\n",
    "            return None\n",
    "            \n",
    "    \n",
    "    def process(self, content):\n",
    "        emoji_pattern = re.compile(\"[\"\n",
    "        u\"\\U0001F600-\\U0001F64F\"  # emoticons\n",
    "        u\"\\U0001F300-\\U0001F5FF\"  # symbols & pictographs\n",
    "        u\"\\U0001F680-\\U0001F6FF\"  # transport & map symbols\n",
    "        u\"\\U0001F1E0-\\U0001F1FF\"  # flags (iOS)\n",
    "                           \"]+\", flags=re.UNICODE)\n",
    "        \n",
    "        j = 0\n",
    "        df = pd.DataFrame(index = range(1, len(content)), columns=['id', 'name', 'message', 'date', 'time'])\n",
    "        \n",
    "        for i in content:\n",
    "            results = self.ismessage(i)\n",
    "            if results != None:\n",
    "                df.iloc[j]['id'] = str(j)\n",
    "                df.iloc[j]['name'] = results[2]\n",
    "                df.iloc[j]['date'] = results[0]\n",
    "                df.iloc[j]['message'] = results[3]\n",
    "                df.iloc[j]['time'] = results[1]\n",
    "                j = j+1\n",
    "                \n",
    "        df['name'] = df['name'].apply(lambda x: str(x).lower())\n",
    "        df['message'] = df['message'].apply(lambda x: emoji_pattern.sub(r'', str(x).lower()).strip())\n",
    "        df = df[df.message != '<media omitted>']\n",
    "        df = df[df.message != 'media omitted']\n",
    "        df = df[df.message != '']\n",
    "        return df.dropna()\n",
    "\n",
    "chat = WhatsAppChat(filenames=[\"data/WhatsApp Chat with Food .txt\"])\n",
    "df = chat.init()\n",
    "        "
   ]
  },
  {
   "cell_type": "markdown",
   "metadata": {},
   "source": [
    "# Looking at the Data"
   ]
  },
  {
   "cell_type": "code",
   "execution_count": 5,
   "metadata": {
    "ExecuteTime": {
     "end_time": "2018-09-25T08:45:53.687402Z",
     "start_time": "2018-09-25T08:45:53.658846Z"
    }
   },
   "outputs": [
    {
     "data": {
      "text/html": [
       "<div>\n",
       "<style scoped>\n",
       "    .dataframe tbody tr th:only-of-type {\n",
       "        vertical-align: middle;\n",
       "    }\n",
       "\n",
       "    .dataframe tbody tr th {\n",
       "        vertical-align: top;\n",
       "    }\n",
       "\n",
       "    .dataframe thead th {\n",
       "        text-align: right;\n",
       "    }\n",
       "</style>\n",
       "<table border=\"1\" class=\"dataframe\">\n",
       "  <thead>\n",
       "    <tr style=\"text-align: right;\">\n",
       "      <th></th>\n",
       "      <th>id</th>\n",
       "      <th>name</th>\n",
       "      <th>message</th>\n",
       "      <th>date</th>\n",
       "      <th>time</th>\n",
       "    </tr>\n",
       "  </thead>\n",
       "  <tbody>\n",
       "    <tr>\n",
       "      <th>0</th>\n",
       "      <td>0</td>\n",
       "      <td>person_b</td>\n",
       "      <td>אוכל?</td>\n",
       "      <td>3/2/17</td>\n",
       "      <td>12:53</td>\n",
       "    </tr>\n",
       "    <tr>\n",
       "      <th>1</th>\n",
       "      <td>1</td>\n",
       "      <td>person_e</td>\n",
       "      <td>למה לא?</td>\n",
       "      <td>3/2/17</td>\n",
       "      <td>12:55</td>\n",
       "    </tr>\n",
       "    <tr>\n",
       "      <th>2</th>\n",
       "      <td>2</td>\n",
       "      <td>person_b</td>\n",
       "      <td>יאללה</td>\n",
       "      <td>3/2/17</td>\n",
       "      <td>12:55</td>\n",
       "    </tr>\n",
       "    <tr>\n",
       "      <th>3</th>\n",
       "      <td>3</td>\n",
       "      <td>person_b</td>\n",
       "      <td>אוכל?</td>\n",
       "      <td>3/5/17</td>\n",
       "      <td>12:57</td>\n",
       "    </tr>\n",
       "    <tr>\n",
       "      <th>4</th>\n",
       "      <td>4</td>\n",
       "      <td>person_a</td>\n",
       "      <td>5 דקות</td>\n",
       "      <td>3/5/17</td>\n",
       "      <td>12:58</td>\n",
       "    </tr>\n",
       "  </tbody>\n",
       "</table>\n",
       "</div>"
      ],
      "text/plain": [
       "  id      name  message    date   time\n",
       "0  0  person_b    אוכל?  3/2/17  12:53\n",
       "1  1  person_e  למה לא?  3/2/17  12:55\n",
       "2  2  person_b    יאללה  3/2/17  12:55\n",
       "3  3  person_b    אוכל?  3/5/17  12:57\n",
       "4  4  person_a   5 דקות  3/5/17  12:58"
      ]
     },
     "execution_count": 5,
     "metadata": {},
     "output_type": "execute_result"
    }
   ],
   "source": [
    "df.head(5)"
   ]
  },
  {
   "cell_type": "markdown",
   "metadata": {
    "heading_collapsed": true
   },
   "source": [
    "# Who sends most of the messages?"
   ]
  },
  {
   "cell_type": "code",
   "execution_count": 6,
   "metadata": {
    "ExecuteTime": {
     "end_time": "2018-09-25T08:46:03.547904Z",
     "start_time": "2018-09-25T08:46:03.088720Z"
    },
    "hidden": true
   },
   "outputs": [
    {
     "data": {
      "image/png": "[encoded data removed]",
      "text/plain": [
       "<Figure size 1152x648 with 1 Axes>"
      ]
     },
     "metadata": {
      "needs_background": "light"
     },
     "output_type": "display_data"
    }
   ],
   "source": [
    "counts = df.groupby(\"name\").name.count().sort_values(ascending=False)\n",
    "fig, ax = plt.subplots(figsize=(16,9))\n",
    "ax = counts.plot.bar(x='name', y='#messages', rot=45, ax=ax)\n",
    "plt.tick_params(axis='both', labelsize=16)\n",
    "plt.xlabel('')\n",
    "plt.ylabel('messages')\n",
    "plt.savefig('messages-freq.png')\n",
    "None"
   ]
  },
  {
   "cell_type": "markdown",
   "metadata": {
    "heading_collapsed": true
   },
   "source": [
    "# Who sends the longest messages?"
   ]
  },
  {
   "cell_type": "code",
   "execution_count": 7,
   "metadata": {
    "ExecuteTime": {
     "end_time": "2018-09-25T08:46:11.582574Z",
     "start_time": "2018-09-25T08:46:11.151690Z"
    },
    "hidden": true
   },
   "outputs": [
    {
     "data": {
      "image/png": "[encoded data removed]",
      "text/plain": [
       "<Figure size 1152x648 with 1 Axes>"
      ]
     },
     "metadata": {
      "needs_background": "light"
     },
     "output_type": "display_data"
    }
   ],
   "source": [
    "\n",
    "def f(x):\n",
    "    return pd.Series({'message' : \"%s\" % ';;;'.join(x['message'])})\n",
    "\n",
    "def count_avg(sents):\n",
    "    sents = sents.split(\";;;\")\n",
    "    sents_lengthes = 0\n",
    "    for s in sents:\n",
    "        sents_lengthes += len(s.split(\" \"))\n",
    "    total_sents = len(sents)\n",
    "    return round(sents_lengthes / total_sents, 2)\n",
    "    \n",
    "msgs = df.groupby('name').apply(f).reset_index()\n",
    "\n",
    "msgs['avg'] = msgs['message'].apply(lambda x: count_avg(x))\n",
    "msgs = msgs.sort_values(by='avg',ascending=False)\n",
    "\n",
    "fig, ax = plt.subplots(figsize=(16,9))\n",
    "ax = msgs.plot.bar(x='name', y='avg', rot=45, ax=ax)\n",
    "plt.tick_params(axis='both', labelsize=16)\n",
    "plt.xlabel('')\n",
    "plt.ylabel('number of words')\n",
    "plt.savefig('words-avg.png')\n",
    "None"
   ]
  },
  {
   "cell_type": "markdown",
   "metadata": {},
   "source": [
    "# Which words are the most common?"
   ]
  },
  {
   "cell_type": "code",
   "execution_count": 8,
   "metadata": {
    "ExecuteTime": {
     "end_time": "2018-09-25T08:46:19.724746Z",
     "start_time": "2018-09-25T08:46:19.199233Z"
    }
   },
   "outputs": [
    {
     "data": {
      "image/png": "[encoded data removed]",
      "text/plain": [
       "<Figure size 1152x648 with 1 Axes>"
      ]
     },
     "metadata": {
      "needs_background": "light"
     },
     "output_type": "display_data"
    }
   ],
   "source": [
    "sents = list(df['message'])\n",
    "tf_dict = {}\n",
    "for s in sents:\n",
    "    words = s.split(\" \")\n",
    "    for w in words:\n",
    "        if w in tf_dict:\n",
    "            tf_dict[w] = tf_dict[w] + 1\n",
    "        else:\n",
    "            tf_dict[w] = 1\n",
    "s = [(k, tf_dict[k]) for k in sorted(tf_dict, key=tf_dict.get, reverse=True)]\n",
    "\n",
    "x = []\n",
    "y = []\n",
    "for k, v in s[:20]:\n",
    "    x.append(v)\n",
    "    y.append(k)\n",
    "tf_df = pd.DataFrame({'term': y, 'tf': x})\n",
    "\n",
    "# display(tf_df)\n",
    "\n",
    "tf_df['term'] = tf_df['term'].apply(lambda x: x[::-1])\n",
    "\n",
    "fig, ax = plt.subplots(figsize=(16,9))\n",
    "ax = tf_df.plot.bar(x='term', y='tf', rot=45, ax=ax)\n",
    "plt.tick_params(axis='both', labelsize=16)\n",
    "plt.xlabel('')\n",
    "plt.ylabel('tf')\n",
    "plt.savefig('most-common-unigrams.png')\n",
    "None"
   ]
  },
  {
   "cell_type": "markdown",
   "metadata": {},
   "source": [
    "# Which words each one is using?"
   ]
  },
  {
   "cell_type": "code",
   "execution_count": 9,
   "metadata": {
    "ExecuteTime": {
     "end_time": "2018-09-25T08:46:36.068095Z",
     "start_time": "2018-09-25T08:46:34.210349Z"
    }
   },
   "outputs": [
    {
     "data": {
      "image/png": "[encoded data removed]",
      "text/plain": [
       "<Figure size 1152x648 with 1 Axes>"
      ]
     },
     "metadata": {
      "needs_background": "light"
     },
     "output_type": "display_data"
    }
   ],
   "source": [
    "def f(x):\n",
    "    return pd.Series({'message' : \"%s\" % ';;;'.join(x['message'])})\n",
    "\n",
    "def get_top_n_terms(sents, n):\n",
    "    sents = sents.split(\";;;\")\n",
    "    tf_dict = {}\n",
    "    for s in sents:\n",
    "        bigrams = [b for b in zip(s.split(\" \")[:-1], s.split(\" \")[1:])]\n",
    "        for b in bigrams:\n",
    "            key = b[0] + \" \" + b[1]\n",
    "            if key in tf_dict:\n",
    "                tf_dict[key] = tf_dict[key] + 1\n",
    "            else:\n",
    "                tf_dict[key] = 1\n",
    "    s = [(k, tf_dict[k]) for k in sorted(tf_dict, key=tf_dict.get, reverse=True)]\n",
    "    return s[:n]\n",
    "    \n",
    "\n",
    "msgs_for_person = df.groupby('name').apply(f).reset_index()\n",
    "\n",
    "msgs_for_person['counts'] = msgs_for_person['message'].apply(lambda x: get_top_n_terms(x, 10))\n",
    "\n",
    "msgs_for_person.head()\n",
    "\n",
    "\n",
    "fig, ax = plt.subplots(figsize=(16,9))\n",
    "\n",
    "persons = []\n",
    "for r in range(len(msgs_for_person)):\n",
    "    x = []\n",
    "    y = []\n",
    "    l = msgs_for_person.iloc[r].counts\n",
    "    for i in range(len(l)):\n",
    "        x.append(l[i][0][::-1])\n",
    "        y.append(l[i][1])\n",
    "    ax.bar(x, y, width=0.8)\n",
    "    persons.append(msgs_for_person.iloc[r]['name'])\n",
    "    \n",
    "plt.legend(persons)\n",
    "\n",
    "plt.tick_params(axis='both', labelsize=12)\n",
    "plt.xlabel('')\n",
    "plt.ylabel('frequency')\n",
    "plt.xticks(rotation=90)\n",
    "plt.savefig('bigrams-for-person.png')\n",
    "None"
   ]
  },
  {
   "cell_type": "markdown",
   "metadata": {
    "heading_collapsed": true
   },
   "source": [
    "# Creating a ChatBot"
   ]
  },
  {
   "cell_type": "code",
   "execution_count": 10,
   "metadata": {
    "hidden": true
   },
   "outputs": [
    {
     "data": {
      "text/html": [
       "<div>\n",
       "<style scoped>\n",
       "    .dataframe tbody tr th:only-of-type {\n",
       "        vertical-align: middle;\n",
       "    }\n",
       "\n",
       "    .dataframe tbody tr th {\n",
       "        vertical-align: top;\n",
       "    }\n",
       "\n",
       "    .dataframe thead th {\n",
       "        text-align: right;\n",
       "    }\n",
       "</style>\n",
       "<table border=\"1\" class=\"dataframe\">\n",
       "  <thead>\n",
       "    <tr style=\"text-align: right;\">\n",
       "      <th></th>\n",
       "      <th>id</th>\n",
       "      <th>text</th>\n",
       "      <th>response</th>\n",
       "      <th>name</th>\n",
       "    </tr>\n",
       "  </thead>\n",
       "  <tbody>\n",
       "    <tr>\n",
       "      <th>0</th>\n",
       "      <td>1</td>\n",
       "      <td>אוכל?</td>\n",
       "      <td>למה לא?</td>\n",
       "      <td>person_e</td>\n",
       "    </tr>\n",
       "    <tr>\n",
       "      <th>1</th>\n",
       "      <td>2</td>\n",
       "      <td>למה לא?</td>\n",
       "      <td>יאללה</td>\n",
       "      <td>person_b</td>\n",
       "    </tr>\n",
       "    <tr>\n",
       "      <th>2</th>\n",
       "      <td>3</td>\n",
       "      <td>יאללה</td>\n",
       "      <td>אוכל?</td>\n",
       "      <td>person_b</td>\n",
       "    </tr>\n",
       "    <tr>\n",
       "      <th>3</th>\n",
       "      <td>4</td>\n",
       "      <td>אוכל?</td>\n",
       "      <td>5 דקות</td>\n",
       "      <td>person_a</td>\n",
       "    </tr>\n",
       "    <tr>\n",
       "      <th>4</th>\n",
       "      <td>5</td>\n",
       "      <td>5 דקות</td>\n",
       "      <td>5 דק בלובי</td>\n",
       "      <td>person_c</td>\n",
       "    </tr>\n",
       "  </tbody>\n",
       "</table>\n",
       "</div>"
      ],
      "text/plain": [
       "  id     text    response      name\n",
       "0  1    אוכל?     למה לא?  person_e\n",
       "1  2  למה לא?       יאללה  person_b\n",
       "2  3    יאללה       אוכל?  person_b\n",
       "3  4    אוכל?      5 דקות  person_a\n",
       "4  5   5 דקות  5 דק בלובי  person_c"
      ]
     },
     "execution_count": 10,
     "metadata": {},
     "output_type": "execute_result"
    }
   ],
   "source": [
    "train_data = pd.DataFrame(columns = ['id','text','response','name'])\n",
    "prev_msg = ''\n",
    "for index, row in df.iterrows():\n",
    "    if prev_msg != '':\n",
    "        tmp = pd.DataFrame({'text': [prev_msg], 'response': [row['message']], 'id': [row['id']], 'name': [row['name']]})        \n",
    "        train_data = train_data.append(tmp[['id','text','response','name']], ignore_index=True)\n",
    "    prev_msg = row['message']\n",
    "train_data.head()"
   ]
  },
  {
   "cell_type": "code",
   "execution_count": 11,
   "metadata": {
    "hidden": true
   },
   "outputs": [],
   "source": [
    "import gensim\n",
    "from gensim.models.doc2vec import Doc2Vec, TaggedDocument\n",
    "from gensim.utils import simple_preprocess\n",
    "import multiprocessing\n",
    "import os\n",
    "class MyTexts(object):\n",
    "    def __iter__(self):\n",
    "        for i in range(len(train_data)):\n",
    "            yield TaggedDocument(words=simple_preprocess(train_data['text'][i]), tags=[train_data['id'][i]])"
   ]
  },
  {
   "cell_type": "code",
   "execution_count": 12,
   "metadata": {
    "hidden": true
   },
   "outputs": [
    {
     "name": "stdout",
     "output_type": "stream",
     "text": [
      "Training the model...\n",
      "Done!\n",
      "CPU times: user 1.87 s, sys: 25.6 ms, total: 1.9 s\n",
      "Wall time: 2.15 s\n"
     ]
    }
   ],
   "source": [
    "%%time\n",
    "assert gensim.models.doc2vec.FAST_VERSION > -1\n",
    "print('Training the model...')\n",
    "cores = multiprocessing.cpu_count()\n",
    "texts = MyTexts()\n",
    "doc2vec_model = Doc2Vec(vector_size=300, workers=cores, min_count=1, window=3, negative=5)\n",
    "doc2vec_model.build_vocab(texts)\n",
    "doc2vec_model.train(texts, total_examples=doc2vec_model.corpus_count, epochs=20)\n",
    "\n",
    "if not os.path.exists('models'):\n",
    "    os.makedirs('models')\n",
    "doc2vec_model.save('models/doc2vec.model')\n",
    "doc2vec_model.save_word2vec_format('models/trained.word2vec')\n",
    "print('Done!')"
   ]
  },
  {
   "cell_type": "code",
   "execution_count": 14,
   "metadata": {
    "hidden": true
   },
   "outputs": [],
   "source": [
    "from colorama import Fore\n",
    "from IPython.display import clear_output\n",
    "from IPython.display import display\n",
    "from ipywidgets import Output\n",
    "\n",
    "def chatbot():\n",
    "    quit=False\n",
    "    responses = []\n",
    "    \n",
    "    while quit == False:\n",
    "        text = str(input('Message: '))\n",
    "        if text == 'quit()':\n",
    "            quit=True\n",
    "        else:\n",
    "            tokens = text.split()\n",
    "            ##infer vector for text the model may not have seen\n",
    "            new_vector = doc2vec_model.infer_vector(tokens)\n",
    "            ##find the most similar [i] tags\n",
    "            index = doc2vec_model.docvecs.most_similar([new_vector], topn = 10)\n",
    "            response = Fore.RED + 'Chatbot: ' + train_data.iloc[int(index[0][0])].response\n",
    "            responses.append(response)\n",
    "            out = Output()\n",
    "            display(out)\n",
    "            with out:\n",
    "                clear_output()\n",
    "                print(response)\n",
    "            "
   ]
  },
  {
   "cell_type": "code",
   "execution_count": null,
   "metadata": {
    "hidden": true
   },
   "outputs": [
    {
     "name": "stdout",
     "output_type": "stream",
     "text": [
      "\u001b[31mChatbot: אני מביא מהשווארמיה\n"
     ]
    }
   ],
   "source": [
    "chatbot()"
   ]
  },
  {
   "cell_type": "code",
   "execution_count": null,
   "metadata": {},
   "outputs": [],
   "source": []
  }
 ],
 "metadata": {
  "hide_input": false,
  "kernelspec": {
   "display_name": "Python 3",
   "language": "python",
   "name": "python3"
  },
  "language_info": {
   "codemirror_mode": {
    "name": "ipython",
    "version": 3
   },
   "file_extension": ".py",
   "mimetype": "text/x-python",
   "name": "python",
   "nbconvert_exporter": "python",
   "pygments_lexer": "ipython3",
   "version": "3.6.7"
  },
  "varInspector": {
   "cols": {
    "lenName": 16,
    "lenType": 16,
    "lenVar": 40
   },
   "kernels_config": {
    "python": {
     "delete_cmd_postfix": "",
     "delete_cmd_prefix": "del ",
     "library": "var_list.py",
     "varRefreshCmd": "print(var_dic_list())"
    },
    "r": {
     "delete_cmd_postfix": ") ",
     "delete_cmd_prefix": "rm(",
     "library": "var_list.r",
     "varRefreshCmd": "cat(var_dic_list()) "
    }
   },
   "types_to_exclude": [
    "module",
    "function",
    "builtin_function_or_method",
    "instance",
    "_Feature"
   ],
   "window_display": false
  }
 },
 "nbformat": 4,
 "nbformat_minor": 2
}
