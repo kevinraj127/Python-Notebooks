{
 "cells": [
  {
   "cell_type": "code",
   "execution_count": null,
   "metadata": {},
   "outputs": [],
   "source": [
    "def lemmatize_all(sentence):\n",
    "    wnl = WordNetLemmatizer()\n",
    "    for word, tag in pos_tag(word_tokenize(sentence)):\n",
    "        if tag.startswith(\"NN\"):\n",
    "            yield wnl.lemmatize(word, pos='n')\n",
    "        elif tag.startswith('VB'):\n",
    "            yield wnl.lemmatize(word, pos='v')\n",
    "        elif tag.startswith('JJ'):\n",
    "            yield wnl.lemmatize(word, pos='a')\n",
    "        elif tag.startswith('R'):\n",
    "            yield wnl.lemmatize(word, pos='r')\n",
    "            \n",
    "        else:\n",
    "            yield word"
   ]
  },
  {
   "cell_type": "code",
   "execution_count": null,
   "metadata": {},
   "outputs": [],
   "source": [
    "print(X_train_sentences[0])\n",
    "X_train_sentences = np.asarray([\" \".join(lemmatize_all(x)) for x in X_train_sentences])\n",
    "X_test_sentences = np.asarray([\" \".join(lemmatize_all(x)) for x in X_test_sentences])\n",
    "print(X_train_sentences[0])\n"
   ]
  },
  {
   "cell_type": "markdown",
   "metadata": {},
   "source": [
    "## Create Train/Test Data With PreProcessing"
   ]
  },
  {
   "cell_type": "code",
   "execution_count": 26,
   "metadata": {},
   "outputs": [],
   "source": [
    "import numpy as np\n",
    "import pandas as pd\n",
    "import numpy as np\n",
    "\n",
    "train_pre = pd.read_csv(\"input/train_preprocessed.csv\")[[\"id\", \"comment_text\"]]\n",
    "train = pd.read_csv(\"input/train.csv\")\n",
    "\n",
    "merged_train = pd.merge(train, train_pre, on='id', how='inner')[['id', 'comment_text_y', 'toxic', 'severe_toxic', 'obscene', 'threat', 'insult', 'identity_hate']]\n",
    "merged_train.columns = list(train.columns)\n",
    "\n",
    "# print(merged_train.size)\n",
    "# print(merged_train.head(5))\n",
    "\n",
    "merged_train.to_csv(\"input/train_preprocessed_all.csv\", index=False)\n",
    "\n",
    "\n",
    "test_pre = pd.read_csv(\"input/test_preprocessed.csv\")[[\"id\", \"comment_text\"]]\n",
    "test = pd.read_csv(\"input/test.csv\")\n",
    "\n",
    "merged_test = pd.merge(test, test_pre, on='id', how='inner')[['id', 'comment_text_y']]\n",
    "merged_test.columns = list(test.columns)\n",
    "\n",
    "# print(merged.size)\n",
    "# print(merged.head(5))\n",
    "\n",
    "merged_test.to_csv(\"input/test_preprocessed_all.csv\", index=False)"
   ]
  }
 ],
 "metadata": {
  "kernelspec": {
   "display_name": "Python 3",
   "language": "python",
   "name": "python3"
  },
  "language_info": {
   "codemirror_mode": {
    "name": "ipython",
    "version": 3
   },
   "file_extension": ".py",
   "mimetype": "text/x-python",
   "name": "python",
   "nbconvert_exporter": "python",
   "pygments_lexer": "ipython3",
   "version": "3.6.3"
  }
 },
 "nbformat": 4,
 "nbformat_minor": 2
}
