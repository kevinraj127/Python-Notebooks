{
 "cells": [
  {
   "cell_type": "code",
   "execution_count": 11,
   "metadata": {},
   "outputs": [],
   "source": [
    "import os\n",
    "import numpy as np\n",
    "import tensorflow as tf\n",
    "from tensorflow.contrib.tensorboard.plugins import projector\n",
    "\n",
    "class TF_visualizer(object):\n",
    "    def __init__(self, dimension, vecs_file, metadata_file, output_path):\n",
    "        self.dimension = dimension\n",
    "        self.vecs_file = vecs_file\n",
    "        self.metadata_file = metadata_file\n",
    "        self.output_path = output_path\n",
    "        \n",
    "        self.vecs = []\n",
    "        with open(self.vecs_file, 'r') as vecs:\n",
    "            for i, line in enumerate(vecs):\n",
    "                if line != '': self.vecs.append(line)\n",
    "\n",
    "    def visualize(self):\n",
    "        # adding into projector\n",
    "        config = projector.ProjectorConfig()\n",
    "\n",
    "        placeholder = np.zeros((len(self.vecs), self.dimension))\n",
    "        \n",
    "        for i, line in enumerate( self.vecs ):   \n",
    "            placeholder[i] = np.fromstring(line, sep=',')\n",
    "\n",
    "        embedding_var = tf.Variable(placeholder, trainable=False, name='metadata')\n",
    "\n",
    "        embed = config.embeddings.add()\n",
    "        embed.tensor_name = embedding_var.name\n",
    "        embed.metadata_path = self.metadata_file\n",
    "\n",
    "        # define the model without training\n",
    "        sess = tf.InteractiveSession()\n",
    "        \n",
    "        tf.global_variables_initializer().run()\n",
    "        saver = tf.train.Saver()\n",
    "        \n",
    "        saver.save(sess, os.path.join(self.output_path, 'w2x_metadata.ckpt'))\n",
    "\n",
    "        writer = tf.summary.FileWriter(self.output_path, sess.graph)\n",
    "        projector.visualize_embeddings(writer, config)\n",
    "        sess.close()\n",
    "        print('Run `tensorboard --logdir={0}` to run visualize result on tensorboard'.format(self.output_path))"
   ]
  },
  {
   "cell_type": "code",
   "execution_count": 12,
   "metadata": {},
   "outputs": [
    {
     "name": "stdout",
     "output_type": "stream",
     "text": [
      "Run `tensorboard --logdir=outputs` to run visualize result on tensorboard\n"
     ]
    }
   ],
   "source": [
    "# create a new tensor board visualizer\n",
    "visualizer = TF_visualizer(dimension = 300,\n",
    "                           vecs_file = 'metadata-vecs.tsv',\n",
    "                           metadata_file = 'metadata.tsv',\n",
    "                           output_path = 'sample-vecs')\n",
    "visualizer.visualize()"
   ]
  }
 ],
 "metadata": {
  "kernelspec": {
   "display_name": "Python 3",
   "language": "python",
   "name": "python3"
  },
  "language_info": {
   "codemirror_mode": {
    "name": "ipython",
    "version": 3
   },
   "file_extension": ".py",
   "mimetype": "text/x-python",
   "name": "python",
   "nbconvert_exporter": "python",
   "pygments_lexer": "ipython3",
   "version": "3.6.3"
  }
 },
 "nbformat": 4,
 "nbformat_minor": 2
}
